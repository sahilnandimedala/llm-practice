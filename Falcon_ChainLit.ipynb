{
 "cells": [
  {
   "cell_type": "code",
   "execution_count": 2,
   "metadata": {},
   "outputs": [
    {
     "ename": "ImportError",
     "evalue": "cannot import name 'Transformers' from 'langchain.llms' (C:\\Users\\mm0450.MAVEN\\AppData\\Roaming\\Python\\Python311\\site-packages\\langchain\\llms\\__init__.py)",
     "output_type": "error",
     "traceback": [
      "\u001b[1;31m---------------------------------------------------------------------------\u001b[0m",
      "\u001b[1;31mImportError\u001b[0m                               Traceback (most recent call last)",
      "\u001b[1;32md:\\MS Data Science\\LJMU - Research\\Implementation\\Exploring\\LLM-Practice\\Falcon_ChainLit.ipynb Cell 1\u001b[0m line \u001b[0;36m3\n\u001b[0;32m      <a href='vscode-notebook-cell:/d%3A/MS%20Data%20Science/LJMU%20-%20Research/Implementation/Exploring/LLM-Practice/Falcon_ChainLit.ipynb#W1sZmlsZQ%3D%3D?line=0'>1</a>\u001b[0m \u001b[39mfrom\u001b[39;00m \u001b[39mlangchain\u001b[39;00m \u001b[39mimport\u001b[39;00m PromptTemplate, OpenAI, LLMChain\n\u001b[0;32m      <a href='vscode-notebook-cell:/d%3A/MS%20Data%20Science/LJMU%20-%20Research/Implementation/Exploring/LLM-Practice/Falcon_ChainLit.ipynb#W1sZmlsZQ%3D%3D?line=1'>2</a>\u001b[0m \u001b[39mimport\u001b[39;00m \u001b[39mchainlit\u001b[39;00m \u001b[39mas\u001b[39;00m \u001b[39mcl\u001b[39;00m\n\u001b[1;32m----> <a href='vscode-notebook-cell:/d%3A/MS%20Data%20Science/LJMU%20-%20Research/Implementation/Exploring/LLM-Practice/Falcon_ChainLit.ipynb#W1sZmlsZQ%3D%3D?line=2'>3</a>\u001b[0m \u001b[39mfrom\u001b[39;00m \u001b[39mlangchain\u001b[39;00m\u001b[39m.\u001b[39;00m\u001b[39mllms\u001b[39;00m \u001b[39mimport\u001b[39;00m Transformers\n",
      "\u001b[1;31mImportError\u001b[0m: cannot import name 'Transformers' from 'langchain.llms' (C:\\Users\\mm0450.MAVEN\\AppData\\Roaming\\Python\\Python311\\site-packages\\langchain\\llms\\__init__.py)"
     ]
    }
   ],
   "source": [
    "from langchain import PromptTemplate, OpenAI, LLMChain\n",
    "from langchain.llms import HuggingFaceHub\n",
    "import chainlit as cl\n"
   ]
  },
  {
   "cell_type": "code",
   "execution_count": null,
   "metadata": {},
   "outputs": [],
   "source": [
    "\n",
    "template=\"\"\"Question: {question}\n",
    "Answer: Lets think step by step..\"\"\"\n",
    "\n",
    "@cl.langchain_factory(use_async=True)\n",
    "def factory():\n",
    "    prompt = PromptTemplate(template=template,input_variables=[\"question\"])\n",
    "    llm_chain = LLMChain(prompt=prompt, llm=)\n"
   ]
  }
 ],
 "metadata": {
  "kernelspec": {
   "display_name": "Python 3",
   "language": "python",
   "name": "python3"
  },
  "language_info": {
   "codemirror_mode": {
    "name": "ipython",
    "version": 3
   },
   "file_extension": ".py",
   "mimetype": "text/x-python",
   "name": "python",
   "nbconvert_exporter": "python",
   "pygments_lexer": "ipython3",
   "version": "3.11.5"
  }
 },
 "nbformat": 4,
 "nbformat_minor": 2
}
